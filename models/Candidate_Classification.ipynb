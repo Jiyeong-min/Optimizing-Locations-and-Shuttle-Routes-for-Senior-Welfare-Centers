{
 "cells": [
  {
   "cell_type": "code",
   "execution_count": 158,
   "metadata": {},
   "outputs": [],
   "source": [
    "import geopandas as gpd\n",
    "import pandas as pd"
   ]
  },
  {
   "cell_type": "code",
   "execution_count": 159,
   "metadata": {},
   "outputs": [
    {
     "name": "stderr",
     "output_type": "stream",
     "text": [
      "<>:1: SyntaxWarning: invalid escape sequence '\\B'\n",
      "<>:1: SyntaxWarning: invalid escape sequence '\\B'\n",
      "C:\\Users\\민지영\\AppData\\Local\\Temp\\ipykernel_18932\\3832451190.py:1: SyntaxWarning: invalid escape sequence '\\B'\n",
      "  shp_file_path = \"Data\\BND_ADM_DONG_PG\\BND_ADM_DONG_PG.shp\"\n"
     ]
    }
   ],
   "source": [
    "shp_file_path = \"Data\\BND_ADM_DONG_PG\\BND_ADM_DONG_PG.shp\"\n",
    "#shp_file_path = r\"C:\\Users\\민지영\\OneDrive - UNIST (1)\\OR LAB\\(2024) Orienteering Problem\\Code\\Data\\통계청_SGIS 행정구역 통계 및 경계_20230701\\2. 경계\\3. 2023년 2분기 기준 행정동 경계\\bnd_dong_00_2023_2023_2Q.shp\"\n",
    "Dong = gpd.read_file(shp_file_path, encoding='cp949')\n",
    "Code = pd.read_excel(\"Data\\센서스 공간정보 지역 코드.xlsx\")\n",
    "\n",
    "df1 = gpd.GeoDataFrame(Dong, geometry='geometry', crs=\"EPSG:4326\")\n",
    "df2 = pd.DataFrame(Code)"
   ]
  },
  {
   "cell_type": "code",
   "execution_count": 160,
   "metadata": {},
   "outputs": [
    {
     "data": {
      "text/plain": [
       "BASE_DATE      object\n",
       "ADM_NM         object\n",
       "ADM_CD         object\n",
       "geometry     geometry\n",
       "dtype: object"
      ]
     },
     "execution_count": 160,
     "metadata": {},
     "output_type": "execute_result"
    }
   ],
   "source": [
    "df1.dtypes"
   ]
  },
  {
   "cell_type": "code",
   "execution_count": 161,
   "metadata": {},
   "outputs": [
    {
     "data": {
      "text/plain": [
       "시도코드      int64\n",
       "시도명칭     object\n",
       "시군구코드     int64\n",
       "시군구명칭    object\n",
       "읍면동코드     int64\n",
       "읍면동명칭    object\n",
       "dtype: object"
      ]
     },
     "execution_count": 161,
     "metadata": {},
     "output_type": "execute_result"
    }
   ],
   "source": [
    "df2.dtypes"
   ]
  },
  {
   "cell_type": "code",
   "execution_count": 162,
   "metadata": {},
   "outputs": [
    {
     "data": {
      "text/html": [
       "<div>\n",
       "<style scoped>\n",
       "    .dataframe tbody tr th:only-of-type {\n",
       "        vertical-align: middle;\n",
       "    }\n",
       "\n",
       "    .dataframe tbody tr th {\n",
       "        vertical-align: top;\n",
       "    }\n",
       "\n",
       "    .dataframe thead th {\n",
       "        text-align: right;\n",
       "    }\n",
       "</style>\n",
       "<table border=\"1\" class=\"dataframe\">\n",
       "  <thead>\n",
       "    <tr style=\"text-align: right;\">\n",
       "      <th></th>\n",
       "      <th>BASE_DATE</th>\n",
       "      <th>ADM_NM</th>\n",
       "      <th>ADM_CD</th>\n",
       "      <th>geometry</th>\n",
       "    </tr>\n",
       "  </thead>\n",
       "  <tbody>\n",
       "    <tr>\n",
       "      <th>0</th>\n",
       "      <td>20230701</td>\n",
       "      <td>사직동</td>\n",
       "      <td>11010530</td>\n",
       "      <td>POLYGON ((197702.06913 553187.31148, 197703.43...</td>\n",
       "    </tr>\n",
       "    <tr>\n",
       "      <th>1</th>\n",
       "      <td>20230701</td>\n",
       "      <td>삼청동</td>\n",
       "      <td>11010540</td>\n",
       "      <td>POLYGON ((198170.45654 553770.67753, 198172.18...</td>\n",
       "    </tr>\n",
       "    <tr>\n",
       "      <th>2</th>\n",
       "      <td>20230701</td>\n",
       "      <td>부암동</td>\n",
       "      <td>11010550</td>\n",
       "      <td>POLYGON ((196621.02324 556395.87962, 196628.32...</td>\n",
       "    </tr>\n",
       "    <tr>\n",
       "      <th>3</th>\n",
       "      <td>20230701</td>\n",
       "      <td>평창동</td>\n",
       "      <td>11010560</td>\n",
       "      <td>POLYGON ((197800.71944 559064.24533, 197782.58...</td>\n",
       "    </tr>\n",
       "    <tr>\n",
       "      <th>4</th>\n",
       "      <td>20230701</td>\n",
       "      <td>한남동</td>\n",
       "      <td>11030740</td>\n",
       "      <td>POLYGON ((200404.26849 550031.32265, 200404.01...</td>\n",
       "    </tr>\n",
       "  </tbody>\n",
       "</table>\n",
       "</div>"
      ],
      "text/plain": [
       "  BASE_DATE ADM_NM    ADM_CD  \\\n",
       "0  20230701    사직동  11010530   \n",
       "1  20230701    삼청동  11010540   \n",
       "2  20230701    부암동  11010550   \n",
       "3  20230701    평창동  11010560   \n",
       "4  20230701    한남동  11030740   \n",
       "\n",
       "                                            geometry  \n",
       "0  POLYGON ((197702.06913 553187.31148, 197703.43...  \n",
       "1  POLYGON ((198170.45654 553770.67753, 198172.18...  \n",
       "2  POLYGON ((196621.02324 556395.87962, 196628.32...  \n",
       "3  POLYGON ((197800.71944 559064.24533, 197782.58...  \n",
       "4  POLYGON ((200404.26849 550031.32265, 200404.01...  "
      ]
     },
     "execution_count": 162,
     "metadata": {},
     "output_type": "execute_result"
    }
   ],
   "source": [
    "df1.head()"
   ]
  },
  {
   "cell_type": "code",
   "execution_count": 163,
   "metadata": {},
   "outputs": [
    {
     "data": {
      "text/html": [
       "<div>\n",
       "<style scoped>\n",
       "    .dataframe tbody tr th:only-of-type {\n",
       "        vertical-align: middle;\n",
       "    }\n",
       "\n",
       "    .dataframe tbody tr th {\n",
       "        vertical-align: top;\n",
       "    }\n",
       "\n",
       "    .dataframe thead th {\n",
       "        text-align: right;\n",
       "    }\n",
       "</style>\n",
       "<table border=\"1\" class=\"dataframe\">\n",
       "  <thead>\n",
       "    <tr style=\"text-align: right;\">\n",
       "      <th></th>\n",
       "      <th>시도코드</th>\n",
       "      <th>시도명칭</th>\n",
       "      <th>시군구코드</th>\n",
       "      <th>시군구명칭</th>\n",
       "      <th>읍면동코드</th>\n",
       "      <th>읍면동명칭</th>\n",
       "    </tr>\n",
       "  </thead>\n",
       "  <tbody>\n",
       "    <tr>\n",
       "      <th>0</th>\n",
       "      <td>11</td>\n",
       "      <td>서울특별시</td>\n",
       "      <td>10</td>\n",
       "      <td>종로구</td>\n",
       "      <td>530</td>\n",
       "      <td>사직동</td>\n",
       "    </tr>\n",
       "    <tr>\n",
       "      <th>1</th>\n",
       "      <td>11</td>\n",
       "      <td>서울특별시</td>\n",
       "      <td>10</td>\n",
       "      <td>종로구</td>\n",
       "      <td>540</td>\n",
       "      <td>삼청동</td>\n",
       "    </tr>\n",
       "    <tr>\n",
       "      <th>2</th>\n",
       "      <td>11</td>\n",
       "      <td>서울특별시</td>\n",
       "      <td>10</td>\n",
       "      <td>종로구</td>\n",
       "      <td>550</td>\n",
       "      <td>부암동</td>\n",
       "    </tr>\n",
       "    <tr>\n",
       "      <th>3</th>\n",
       "      <td>11</td>\n",
       "      <td>서울특별시</td>\n",
       "      <td>10</td>\n",
       "      <td>종로구</td>\n",
       "      <td>560</td>\n",
       "      <td>평창동</td>\n",
       "    </tr>\n",
       "    <tr>\n",
       "      <th>4</th>\n",
       "      <td>11</td>\n",
       "      <td>서울특별시</td>\n",
       "      <td>10</td>\n",
       "      <td>종로구</td>\n",
       "      <td>570</td>\n",
       "      <td>무악동</td>\n",
       "    </tr>\n",
       "  </tbody>\n",
       "</table>\n",
       "</div>"
      ],
      "text/plain": [
       "   시도코드   시도명칭  시군구코드 시군구명칭  읍면동코드 읍면동명칭\n",
       "0    11  서울특별시     10   종로구    530   사직동\n",
       "1    11  서울특별시     10   종로구    540   삼청동\n",
       "2    11  서울특별시     10   종로구    550   부암동\n",
       "3    11  서울특별시     10   종로구    560   평창동\n",
       "4    11  서울특별시     10   종로구    570   무악동"
      ]
     },
     "execution_count": 163,
     "metadata": {},
     "output_type": "execute_result"
    }
   ],
   "source": [
    "df2.head()"
   ]
  },
  {
   "cell_type": "code",
   "execution_count": 164,
   "metadata": {},
   "outputs": [
    {
     "data": {
      "text/html": [
       "<div>\n",
       "<style scoped>\n",
       "    .dataframe tbody tr th:only-of-type {\n",
       "        vertical-align: middle;\n",
       "    }\n",
       "\n",
       "    .dataframe tbody tr th {\n",
       "        vertical-align: top;\n",
       "    }\n",
       "\n",
       "    .dataframe thead th {\n",
       "        text-align: right;\n",
       "    }\n",
       "</style>\n",
       "<table border=\"1\" class=\"dataframe\">\n",
       "  <thead>\n",
       "    <tr style=\"text-align: right;\">\n",
       "      <th></th>\n",
       "      <th>시도코드</th>\n",
       "      <th>시도명칭</th>\n",
       "      <th>시군구코드</th>\n",
       "      <th>시군구명칭</th>\n",
       "      <th>읍면동코드</th>\n",
       "      <th>읍면동명칭</th>\n",
       "      <th>ADM_CD</th>\n",
       "    </tr>\n",
       "  </thead>\n",
       "  <tbody>\n",
       "    <tr>\n",
       "      <th>1128</th>\n",
       "      <td>26</td>\n",
       "      <td>울산광역시</td>\n",
       "      <td>20</td>\n",
       "      <td>남구</td>\n",
       "      <td>510</td>\n",
       "      <td>신정1동</td>\n",
       "      <td>26020510</td>\n",
       "    </tr>\n",
       "    <tr>\n",
       "      <th>1129</th>\n",
       "      <td>26</td>\n",
       "      <td>울산광역시</td>\n",
       "      <td>20</td>\n",
       "      <td>남구</td>\n",
       "      <td>520</td>\n",
       "      <td>신정2동</td>\n",
       "      <td>26020520</td>\n",
       "    </tr>\n",
       "    <tr>\n",
       "      <th>1130</th>\n",
       "      <td>26</td>\n",
       "      <td>울산광역시</td>\n",
       "      <td>20</td>\n",
       "      <td>남구</td>\n",
       "      <td>530</td>\n",
       "      <td>신정3동</td>\n",
       "      <td>26020530</td>\n",
       "    </tr>\n",
       "    <tr>\n",
       "      <th>1131</th>\n",
       "      <td>26</td>\n",
       "      <td>울산광역시</td>\n",
       "      <td>20</td>\n",
       "      <td>남구</td>\n",
       "      <td>540</td>\n",
       "      <td>신정4동</td>\n",
       "      <td>26020540</td>\n",
       "    </tr>\n",
       "    <tr>\n",
       "      <th>1132</th>\n",
       "      <td>26</td>\n",
       "      <td>울산광역시</td>\n",
       "      <td>20</td>\n",
       "      <td>남구</td>\n",
       "      <td>550</td>\n",
       "      <td>신정5동</td>\n",
       "      <td>26020550</td>\n",
       "    </tr>\n",
       "  </tbody>\n",
       "</table>\n",
       "</div>"
      ],
      "text/plain": [
       "      시도코드   시도명칭  시군구코드 시군구명칭  읍면동코드 읍면동명칭    ADM_CD\n",
       "1128    26  울산광역시     20    남구    510  신정1동  26020510\n",
       "1129    26  울산광역시     20    남구    520  신정2동  26020520\n",
       "1130    26  울산광역시     20    남구    530  신정3동  26020530\n",
       "1131    26  울산광역시     20    남구    540  신정4동  26020540\n",
       "1132    26  울산광역시     20    남구    550  신정5동  26020550"
      ]
     },
     "execution_count": 164,
     "metadata": {},
     "output_type": "execute_result"
    }
   ],
   "source": [
    "df2 = df2[(df2[\"시도코드\"]==26) & (df2[\"시군구코드\"]== 20)]\n",
    "df2[\"ADM_CD\"] = df2[\"시도코드\"].astype(str) + df2[\"시군구코드\"].astype(str) + df2[\"읍면동코드\"].astype(str)\n",
    "df2['ADM_CD'] = df2['ADM_CD'].str[:2] + '0' + df2['ADM_CD'].str[2:]\n",
    "df2.head()\n"
   ]
  },
  {
   "cell_type": "code",
   "execution_count": 165,
   "metadata": {},
   "outputs": [
    {
     "data": {
      "text/plain": [
       "시도코드       int64\n",
       "시도명칭      object\n",
       "시군구코드      int64\n",
       "시군구명칭     object\n",
       "읍면동코드      int64\n",
       "읍면동명칭     object\n",
       "ADM_CD    object\n",
       "dtype: object"
      ]
     },
     "execution_count": 165,
     "metadata": {},
     "output_type": "execute_result"
    }
   ],
   "source": [
    "df2.dtypes"
   ]
  },
  {
   "cell_type": "code",
   "execution_count": 166,
   "metadata": {},
   "outputs": [],
   "source": [
    "pd.set_option('display.float_format', '{:.10f}'.format)"
   ]
  },
  {
   "cell_type": "code",
   "execution_count": 167,
   "metadata": {},
   "outputs": [
    {
     "data": {
      "text/html": [
       "<div>\n",
       "<style scoped>\n",
       "    .dataframe tbody tr th:only-of-type {\n",
       "        vertical-align: middle;\n",
       "    }\n",
       "\n",
       "    .dataframe tbody tr th {\n",
       "        vertical-align: top;\n",
       "    }\n",
       "\n",
       "    .dataframe thead th {\n",
       "        text-align: right;\n",
       "    }\n",
       "</style>\n",
       "<table border=\"1\" class=\"dataframe\">\n",
       "  <thead>\n",
       "    <tr style=\"text-align: right;\">\n",
       "      <th></th>\n",
       "      <th>ADM_NM</th>\n",
       "      <th>geometry</th>\n",
       "    </tr>\n",
       "  </thead>\n",
       "  <tbody>\n",
       "    <tr>\n",
       "      <th>0</th>\n",
       "      <td>신정2동</td>\n",
       "      <td>POLYGON ((408456.81195 329492.30610, 408461.00...</td>\n",
       "    </tr>\n",
       "    <tr>\n",
       "      <th>1</th>\n",
       "      <td>옥동</td>\n",
       "      <td>POLYGON ((406873.21557 329939.69726, 406914.98...</td>\n",
       "    </tr>\n",
       "    <tr>\n",
       "      <th>2</th>\n",
       "      <td>야음장생포동</td>\n",
       "      <td>POLYGON ((414995.06926 329458.82214, 415004.95...</td>\n",
       "    </tr>\n",
       "    <tr>\n",
       "      <th>3</th>\n",
       "      <td>대현동</td>\n",
       "      <td>POLYGON ((411759.31531 328764.98326, 411756.06...</td>\n",
       "    </tr>\n",
       "    <tr>\n",
       "      <th>4</th>\n",
       "      <td>신정4동</td>\n",
       "      <td>POLYGON ((409983.27079 328580.33114, 409983.94...</td>\n",
       "    </tr>\n",
       "    <tr>\n",
       "      <th>5</th>\n",
       "      <td>선암동</td>\n",
       "      <td>MULTIPOLYGON (((416482.92430 320794.52150, 416...</td>\n",
       "    </tr>\n",
       "    <tr>\n",
       "      <th>6</th>\n",
       "      <td>무거동</td>\n",
       "      <td>POLYGON ((404959.82663 330659.76389, 404968.29...</td>\n",
       "    </tr>\n",
       "    <tr>\n",
       "      <th>7</th>\n",
       "      <td>신정1동</td>\n",
       "      <td>POLYGON ((409502.37372 330014.55451, 409514.02...</td>\n",
       "    </tr>\n",
       "    <tr>\n",
       "      <th>8</th>\n",
       "      <td>신정3동</td>\n",
       "      <td>POLYGON ((410219.26653 330100.78423, 410224.28...</td>\n",
       "    </tr>\n",
       "    <tr>\n",
       "      <th>9</th>\n",
       "      <td>신정5동</td>\n",
       "      <td>POLYGON ((410756.87218 330301.68909, 410756.89...</td>\n",
       "    </tr>\n",
       "    <tr>\n",
       "      <th>10</th>\n",
       "      <td>달동</td>\n",
       "      <td>POLYGON ((411382.29537 328637.95058, 411391.98...</td>\n",
       "    </tr>\n",
       "    <tr>\n",
       "      <th>11</th>\n",
       "      <td>삼산동</td>\n",
       "      <td>POLYGON ((412073.45526 330564.13356, 412100.38...</td>\n",
       "    </tr>\n",
       "    <tr>\n",
       "      <th>12</th>\n",
       "      <td>삼호동</td>\n",
       "      <td>POLYGON ((405446.13340 331228.71695, 405459.86...</td>\n",
       "    </tr>\n",
       "    <tr>\n",
       "      <th>13</th>\n",
       "      <td>수암동</td>\n",
       "      <td>POLYGON ((410501.20843 328157.90379, 410531.45...</td>\n",
       "    </tr>\n",
       "  </tbody>\n",
       "</table>\n",
       "</div>"
      ],
      "text/plain": [
       "    ADM_NM                                           geometry\n",
       "0     신정2동  POLYGON ((408456.81195 329492.30610, 408461.00...\n",
       "1       옥동  POLYGON ((406873.21557 329939.69726, 406914.98...\n",
       "2   야음장생포동  POLYGON ((414995.06926 329458.82214, 415004.95...\n",
       "3      대현동  POLYGON ((411759.31531 328764.98326, 411756.06...\n",
       "4     신정4동  POLYGON ((409983.27079 328580.33114, 409983.94...\n",
       "5      선암동  MULTIPOLYGON (((416482.92430 320794.52150, 416...\n",
       "6      무거동  POLYGON ((404959.82663 330659.76389, 404968.29...\n",
       "7     신정1동  POLYGON ((409502.37372 330014.55451, 409514.02...\n",
       "8     신정3동  POLYGON ((410219.26653 330100.78423, 410224.28...\n",
       "9     신정5동  POLYGON ((410756.87218 330301.68909, 410756.89...\n",
       "10      달동  POLYGON ((411382.29537 328637.95058, 411391.98...\n",
       "11     삼산동  POLYGON ((412073.45526 330564.13356, 412100.38...\n",
       "12     삼호동  POLYGON ((405446.13340 331228.71695, 405459.86...\n",
       "13     수암동  POLYGON ((410501.20843 328157.90379, 410531.45..."
      ]
     },
     "execution_count": 167,
     "metadata": {},
     "output_type": "execute_result"
    }
   ],
   "source": [
    "district_gdf = df1.merge(df2, on='ADM_CD', how='inner')\n",
    "selected_columns = ['ADM_NM', 'geometry']\n",
    "district_gdf = district_gdf[selected_columns]\n",
    "district_gdf"
   ]
  },
  {
   "cell_type": "code",
   "execution_count": 168,
   "metadata": {},
   "outputs": [],
   "source": [
    "#district_gdf = district_gdf.to_crs(epsg=5179)"
   ]
  },
  {
   "cell_type": "code",
   "execution_count": 169,
   "metadata": {},
   "outputs": [],
   "source": [
    "# 유효하지 않은 geometry를 가진 행 찾기\n",
    "#invalid_geometry = district_gdf[~district_gdf.is_valid]\n",
    "\n",
    "# 유효하지 않은 geometry가 있는지 확인\n",
    "#print(invalid_geometry)"
   ]
  },
  {
   "cell_type": "code",
   "execution_count": 170,
   "metadata": {},
   "outputs": [],
   "source": [
    "# 파일 경로 지정\n",
    "#output_file = r\"C:\\Users\\민지영\\OneDrive - UNIST (1)\\OR LAB\\(2024) Orienteering Problem\\Code\\Data\\district_shapefile.shp\"\n",
    "\n",
    "# GeoDataFrame을 shp 파일로 저장\n",
    "#district_gdf.to_file(output_file)\n",
    "\n",
    "# 저장 경로 확인\n",
    "#print(f\"Shapefile 저장 완료: {output_file}\")"
   ]
  },
  {
   "cell_type": "code",
   "execution_count": 171,
   "metadata": {},
   "outputs": [
    {
     "name": "stderr",
     "output_type": "stream",
     "text": [
      "<>:1: SyntaxWarning: invalid escape sequence '\\c'\n",
      "<>:1: SyntaxWarning: invalid escape sequence '\\c'\n",
      "C:\\Users\\민지영\\AppData\\Local\\Temp\\ipykernel_18932\\1738584319.py:1: SyntaxWarning: invalid escape sequence '\\c'\n",
      "  candidate = gpd.read_file(\"Data\\candidate_sites.shp\", encoding='cp949')\n"
     ]
    }
   ],
   "source": [
    "candidate = gpd.read_file(\"Data\\candidate_sites.shp\", encoding='cp949')\n",
    "candidate_gdf = gpd.GeoDataFrame(candidate, geometry='geometry', crs=\"EPSG:4326\")"
   ]
  },
  {
   "cell_type": "code",
   "execution_count": 172,
   "metadata": {},
   "outputs": [
    {
     "data": {
      "text/html": [
       "<div>\n",
       "<style scoped>\n",
       "    .dataframe tbody tr th:only-of-type {\n",
       "        vertical-align: middle;\n",
       "    }\n",
       "\n",
       "    .dataframe tbody tr th {\n",
       "        vertical-align: top;\n",
       "    }\n",
       "\n",
       "    .dataframe thead th {\n",
       "        text-align: right;\n",
       "    }\n",
       "</style>\n",
       "<table border=\"1\" class=\"dataframe\">\n",
       "  <thead>\n",
       "    <tr style=\"text-align: right;\">\n",
       "      <th></th>\n",
       "      <th>cluster_id</th>\n",
       "      <th>geometry</th>\n",
       "    </tr>\n",
       "  </thead>\n",
       "  <tbody>\n",
       "    <tr>\n",
       "      <th>0</th>\n",
       "      <td>0</td>\n",
       "      <td>POINT (129.32565 35.54246)</td>\n",
       "    </tr>\n",
       "    <tr>\n",
       "      <th>1</th>\n",
       "      <td>1</td>\n",
       "      <td>POINT (129.26051 35.54431)</td>\n",
       "    </tr>\n",
       "    <tr>\n",
       "      <th>2</th>\n",
       "      <td>2</td>\n",
       "      <td>POINT (129.31709 35.53614)</td>\n",
       "    </tr>\n",
       "    <tr>\n",
       "      <th>3</th>\n",
       "      <td>3</td>\n",
       "      <td>POINT (129.33359 35.52279)</td>\n",
       "    </tr>\n",
       "    <tr>\n",
       "      <th>4</th>\n",
       "      <td>4</td>\n",
       "      <td>POINT (129.29648 35.53612)</td>\n",
       "    </tr>\n",
       "    <tr>\n",
       "      <th>...</th>\n",
       "      <td>...</td>\n",
       "      <td>...</td>\n",
       "    </tr>\n",
       "    <tr>\n",
       "      <th>95</th>\n",
       "      <td>95</td>\n",
       "      <td>POINT (129.31796 35.53961)</td>\n",
       "    </tr>\n",
       "    <tr>\n",
       "      <th>96</th>\n",
       "      <td>96</td>\n",
       "      <td>POINT (129.31556 35.53667)</td>\n",
       "    </tr>\n",
       "    <tr>\n",
       "      <th>97</th>\n",
       "      <td>97</td>\n",
       "      <td>POINT (129.33167 35.53442)</td>\n",
       "    </tr>\n",
       "    <tr>\n",
       "      <th>98</th>\n",
       "      <td>98</td>\n",
       "      <td>POINT (129.32845 35.52947)</td>\n",
       "    </tr>\n",
       "    <tr>\n",
       "      <th>99</th>\n",
       "      <td>99</td>\n",
       "      <td>POINT (129.25942 35.54926)</td>\n",
       "    </tr>\n",
       "  </tbody>\n",
       "</table>\n",
       "<p>100 rows × 2 columns</p>\n",
       "</div>"
      ],
      "text/plain": [
       "    cluster_id                    geometry\n",
       "0            0  POINT (129.32565 35.54246)\n",
       "1            1  POINT (129.26051 35.54431)\n",
       "2            2  POINT (129.31709 35.53614)\n",
       "3            3  POINT (129.33359 35.52279)\n",
       "4            4  POINT (129.29648 35.53612)\n",
       "..         ...                         ...\n",
       "95          95  POINT (129.31796 35.53961)\n",
       "96          96  POINT (129.31556 35.53667)\n",
       "97          97  POINT (129.33167 35.53442)\n",
       "98          98  POINT (129.32845 35.52947)\n",
       "99          99  POINT (129.25942 35.54926)\n",
       "\n",
       "[100 rows x 2 columns]"
      ]
     },
     "execution_count": 172,
     "metadata": {},
     "output_type": "execute_result"
    }
   ],
   "source": [
    "candidate_gdf"
   ]
  },
  {
   "cell_type": "code",
   "execution_count": 173,
   "metadata": {},
   "outputs": [
    {
     "name": "stdout",
     "output_type": "stream",
     "text": [
      "EPSG:5186\n"
     ]
    }
   ],
   "source": [
    "# 시설 위치 좌표계가 EPSG:4326이라 가정하고, 이를 EPSG:5186 (UTM-K)으로 변환\n",
    "candidate_gdf = candidate_gdf.to_crs(epsg=5186)\n",
    "\n",
    "# 변환된 좌표계 확인\n",
    "print(candidate_gdf.crs)"
   ]
  },
  {
   "cell_type": "code",
   "execution_count": 174,
   "metadata": {},
   "outputs": [
    {
     "name": "stdout",
     "output_type": "stream",
     "text": [
      "EPSG:5186\n",
      "EPSG:4326\n"
     ]
    }
   ],
   "source": [
    "print(candidate_gdf.crs)  # 시설 데이터 좌표계\n",
    "print(district_gdf.crs)  # 행정 구역 데이터 좌표계"
   ]
  },
  {
   "cell_type": "code",
   "execution_count": 175,
   "metadata": {},
   "outputs": [
    {
     "data": {
      "text/html": [
       "<div>\n",
       "<style scoped>\n",
       "    .dataframe tbody tr th:only-of-type {\n",
       "        vertical-align: middle;\n",
       "    }\n",
       "\n",
       "    .dataframe tbody tr th {\n",
       "        vertical-align: top;\n",
       "    }\n",
       "\n",
       "    .dataframe thead th {\n",
       "        text-align: right;\n",
       "    }\n",
       "</style>\n",
       "<table border=\"1\" class=\"dataframe\">\n",
       "  <thead>\n",
       "    <tr style=\"text-align: right;\">\n",
       "      <th></th>\n",
       "      <th>cluster_id</th>\n",
       "      <th>geometry</th>\n",
       "    </tr>\n",
       "  </thead>\n",
       "  <tbody>\n",
       "    <tr>\n",
       "      <th>0</th>\n",
       "      <td>0</td>\n",
       "      <td>POINT (410912.597 329767.587)</td>\n",
       "    </tr>\n",
       "    <tr>\n",
       "      <th>1</th>\n",
       "      <td>1</td>\n",
       "      <td>POINT (404999.242 329834.790)</td>\n",
       "    </tr>\n",
       "    <tr>\n",
       "      <th>2</th>\n",
       "      <td>2</td>\n",
       "      <td>POINT (410153.058 329047.417)</td>\n",
       "    </tr>\n",
       "    <tr>\n",
       "      <th>3</th>\n",
       "      <td>3</td>\n",
       "      <td>POINT (411684.414 327601.604)</td>\n",
       "    </tr>\n",
       "    <tr>\n",
       "      <th>4</th>\n",
       "      <td>4</td>\n",
       "      <td>POINT (408283.179 329001.708)</td>\n",
       "    </tr>\n",
       "    <tr>\n",
       "      <th>...</th>\n",
       "      <td>...</td>\n",
       "      <td>...</td>\n",
       "    </tr>\n",
       "    <tr>\n",
       "      <th>95</th>\n",
       "      <td>95</td>\n",
       "      <td>POINT (410222.631 329435.273)</td>\n",
       "    </tr>\n",
       "    <tr>\n",
       "      <th>96</th>\n",
       "      <td>96</td>\n",
       "      <td>POINT (410012.139 329103.744)</td>\n",
       "    </tr>\n",
       "    <tr>\n",
       "      <th>97</th>\n",
       "      <td>97</td>\n",
       "      <td>POINT (411480.067 328888.043)</td>\n",
       "    </tr>\n",
       "    <tr>\n",
       "      <th>98</th>\n",
       "      <td>98</td>\n",
       "      <td>POINT (411200.302 328331.541)</td>\n",
       "    </tr>\n",
       "    <tr>\n",
       "      <th>99</th>\n",
       "      <td>99</td>\n",
       "      <td>POINT (404887.955 330382.060)</td>\n",
       "    </tr>\n",
       "  </tbody>\n",
       "</table>\n",
       "<p>100 rows × 2 columns</p>\n",
       "</div>"
      ],
      "text/plain": [
       "    cluster_id                       geometry\n",
       "0            0  POINT (410912.597 329767.587)\n",
       "1            1  POINT (404999.242 329834.790)\n",
       "2            2  POINT (410153.058 329047.417)\n",
       "3            3  POINT (411684.414 327601.604)\n",
       "4            4  POINT (408283.179 329001.708)\n",
       "..         ...                            ...\n",
       "95          95  POINT (410222.631 329435.273)\n",
       "96          96  POINT (410012.139 329103.744)\n",
       "97          97  POINT (411480.067 328888.043)\n",
       "98          98  POINT (411200.302 328331.541)\n",
       "99          99  POINT (404887.955 330382.060)\n",
       "\n",
       "[100 rows x 2 columns]"
      ]
     },
     "execution_count": 175,
     "metadata": {},
     "output_type": "execute_result"
    }
   ],
   "source": [
    "candidate_gdf"
   ]
  },
  {
   "cell_type": "code",
   "execution_count": 176,
   "metadata": {},
   "outputs": [
    {
     "name": "stdout",
     "output_type": "stream",
     "text": [
      "    cluster_id  ADM_NM\n",
      "0            0    신정5동\n",
      "1            1     무거동\n",
      "2            2      달동\n",
      "3            3  야음장생포동\n",
      "4            4      옥동\n",
      "..         ...     ...\n",
      "95          95    신정3동\n",
      "96          96      달동\n",
      "97          97     삼산동\n",
      "98          98     대현동\n",
      "99          99     무거동\n",
      "\n",
      "[100 rows x 2 columns]\n"
     ]
    },
    {
     "name": "stderr",
     "output_type": "stream",
     "text": [
      "C:\\Users\\민지영\\AppData\\Local\\Temp\\ipykernel_18932\\3287606863.py:2: UserWarning: CRS mismatch between the CRS of left geometries and the CRS of right geometries.\n",
      "Use `to_crs()` to reproject one of the input geometries to match the CRS of the other.\n",
      "\n",
      "Left CRS: EPSG:5186\n",
      "Right CRS: EPSG:4326\n",
      "\n",
      "  facility_by_district = gpd.sjoin(candidate_gdf, district_gdf, how=\"left\", predicate=\"within\")\n"
     ]
    }
   ],
   "source": [
    "# 시설 데이터와 행정구역 데이터의 공간 결합\n",
    "facility_by_district = gpd.sjoin(candidate_gdf, district_gdf, how=\"left\", predicate=\"within\")\n",
    "\n",
    "# 결과 확인\n",
    "print(facility_by_district[['cluster_id', 'ADM_NM']])"
   ]
  },
  {
   "cell_type": "code",
   "execution_count": 177,
   "metadata": {},
   "outputs": [
    {
     "name": "stdout",
     "output_type": "stream",
     "text": [
      "ADM_NM\n",
      "달동        20\n",
      "대현동        8\n",
      "무거동        7\n",
      "삼산동       17\n",
      "삼호동        5\n",
      "선암동        3\n",
      "수암동        3\n",
      "신정1동       3\n",
      "신정2동       8\n",
      "신정3동       5\n",
      "신정4동       8\n",
      "신정5동       4\n",
      "야음장생포동     6\n",
      "옥동         3\n",
      "dtype: int64\n"
     ]
    }
   ],
   "source": [
    "cluster_count = facility_by_district.groupby('ADM_NM').size()\n",
    "\n",
    "# 결과 출력\n",
    "print(cluster_count)"
   ]
  },
  {
   "cell_type": "code",
   "execution_count": null,
   "metadata": {},
   "outputs": [
    {
     "name": "stdout",
     "output_type": "stream",
     "text": [
      "ADM_NM\n",
      "달동        20\n",
      "대현동        8\n",
      "무거동        7\n",
      "삼산동       17\n",
      "삼호동        5\n",
      "선암동        3\n",
      "수암동        3\n",
      "신정1동       3\n",
      "신정2동       8\n",
      "신정3동       5\n",
      "신정4동       8\n",
      "신정5동       4\n",
      "야음장생포동     6\n",
      "옥동         3\n",
      "dtype: int64\n"
     ]
    }
   ],
   "source": [
    "cluster_count = facility_by_district.groupby('ADM_NM').size()\n",
    "\n",
    "# 결과 출력\n",
    "print(cluster_count)"
   ]
  }
 ],
 "metadata": {
  "kernelspec": {
   "display_name": "Python 3",
   "language": "python",
   "name": "python3"
  },
  "language_info": {
   "codemirror_mode": {
    "name": "ipython",
    "version": 3
   },
   "file_extension": ".py",
   "mimetype": "text/x-python",
   "name": "python",
   "nbconvert_exporter": "python",
   "pygments_lexer": "ipython3",
   "version": "3.12.0"
  }
 },
 "nbformat": 4,
 "nbformat_minor": 2
}
